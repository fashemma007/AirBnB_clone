{
 "cells": [
  {
   "cell_type": "code",
   "execution_count": 15,
   "metadata": {},
   "outputs": [],
   "source": [
    "from uuid import uuid4\n",
    "from datetime import datetime\n",
    "import json\n",
    "\n",
    "class BaseModel:\n",
    "    def __init__(self, *args, **kwargs):\n",
    "        \"\"\"Initialize the base model\"\"\"\n",
    "        from models import storage  # to avoid circular import\n",
    "        if not kwargs:  # if no dictionary (key&value) argument is passed\n",
    "            self.id = str(uuid4())\n",
    "            self.created_at = datetime.now()\n",
    "            self.updated_at = datetime.now()\n",
    "            storage.new(self)\n",
    "        else:\n",
    "            for k, v in kwargs.items():\n",
    "                if k != \"__class__\":\n",
    "                    if k in (\"created_at\", \"updated_at\"):\n",
    "                        # Construct a date from the output of date.isoformat()\n",
    "                        # setattr(x, 'y', v) is equivalent to x.y = v''\n",
    "                        setattr(self, k, datetime.fromisoformat(v))\n",
    "                    # otherwise create a key and value pair of other attributes\n",
    "                    else:\n",
    "                        setattr(self, k, v)\n",
    "\n",
    "    def __str__(self):\n",
    "        \"\"\"Returns a customized string representation\n",
    "\n",
    "        [<class name>] (<self.id>) <self.__dict__>\n",
    "        \"\"\"\n",
    "        return f\"[{type(self).__name__}] ({self.id}) {self.__dict__}\"\n",
    "\n",
    "    def save(self):\n",
    "        from models import storage  # to avoid circular import\n",
    "        objects = []\n",
    "        self.updated_at = datetime.now()\n",
    "        storage.save()\n",
    "\n",
    "    def to_dict(self):\n",
    "        dict_1 = self.__dict__.copy()  # create a copy of __dict__\n",
    "        # add __class__ key with class name as value\n",
    "        dict_1[\"__class__\"] = self.__class__.__name__\n",
    "        for k, v in self.__dict__.items():\n",
    "            if k in (\"created_at\", \"updated_at\"):\n",
    "                # self.__dict__() returns a dict of\n",
    "                # instance attributes and values\n",
    "                # print(\"Here==>\",self.__dict__)\n",
    "                # [k] simply sends in a key and gets it's\n",
    "                # value in our case, created_at or updated_at, then;\n",
    "                # converts datetime{2022-11-21 16:06:40.075755}\n",
    "                # to isoformat {2022-11-21T16:06:40.075755}\n",
    "                v = self.__dict__[k].isoformat()\n",
    "                dict_1[k] = v\n",
    "        return dict_1\n"
   ]
  },
  {
   "cell_type": "code",
   "execution_count": 32,
   "metadata": {},
   "outputs": [],
   "source": [
    "class_dict = {\"BaseModel\": BaseModel}\n",
    "\n",
    "\n",
    "class FileStorage():\n",
    "    # private class attributes\n",
    "    __file_path = \"file.json\"\n",
    "    __objects = {}\n",
    "\n",
    "    def all(self):\n",
    "        return self.__objects\n",
    "\n",
    "    def new(self, obj):\n",
    "        self.__objects[\"{}.{}\".format(obj.__class__.__name__, obj.id)] = obj\n",
    "\n",
    "    def save(self):\n",
    "        with open(self.__file_path, mode=\"w\") as f:\n",
    "            dict_storage = {}\n",
    "            for k, v in self.__objects.items():\n",
    "                dict_storage[k] = v.to_dict()\n",
    "            json.dump(dict_storage, f)\n",
    "\n",
    "    def reload(self):\n",
    "        try:\n",
    "            with open(self.__file_path, 'r') as f:\n",
    "                # load the json file as instance object\n",
    "                instance = json.load(f)\n",
    "                for key in instance:\n",
    "                    self.__objects[key] = (\n",
    "                        class_dict[instance[key][\"__class__\"]](**instance[key])\n",
    "                        )\n",
    "        except Exception:\n",
    "            pass\n",
    "    \n",
    "\n",
    "storage = FileStorage()\n",
    "storage.reload()"
   ]
  },
  {
   "cell_type": "code",
   "execution_count": 30,
   "metadata": {},
   "outputs": [],
   "source": [
    "__objects = {}\n",
    "def reload():\n",
    "    try:\n",
    "        with open(\"file.json\", 'r') as f:\n",
    "            # load the json file as instance object\n",
    "            instance = json.load(f)\n",
    "            for key in instance:\n",
    "                __objects[key] = (class_dict[instance[key][\"__class__\"]](**instance[key]))\n",
    "            print(__objects[key])\n",
    "    except:\n",
    "        pass"
   ]
  },
  {
   "cell_type": "code",
   "execution_count": 31,
   "metadata": {},
   "outputs": [
    {
     "name": "stdout",
     "output_type": "stream",
     "text": [
      "[BaseModel] (3a661e3f-c828-4378-ae22-696a1d566915) {'id': '3a661e3f-c828-4378-ae22-696a1d566915', 'created_at': datetime.datetime(2022, 11, 24, 14, 20, 32, 233837), 'updated_at': datetime.datetime(2022, 11, 24, 14, 20, 32, 233843), 'name': 'My_First_Model', 'my_number': 89}\n"
     ]
    }
   ],
   "source": [
    "reload()"
   ]
  },
  {
   "cell_type": "code",
   "execution_count": null,
   "metadata": {},
   "outputs": [],
   "source": []
  },
  {
   "cell_type": "code",
   "execution_count": null,
   "metadata": {},
   "outputs": [],
   "source": []
  },
  {
   "cell_type": "code",
   "execution_count": 19,
   "metadata": {},
   "outputs": [
    {
     "ename": "AttributeError",
     "evalue": "'BaseModel' object has no attribute 'to_dict'",
     "output_type": "error",
     "traceback": [
      "\u001b[0;31m---------------------------------------------------------------------------\u001b[0m",
      "\u001b[0;31mAttributeError\u001b[0m                            Traceback (most recent call last)",
      "\u001b[1;32m/home/imitor/Documents/git_repos/ALX_FSE/AirBnB_clone/nb.ipynb Cell 3\u001b[0m in \u001b[0;36m<cell line: 4>\u001b[0;34m()\u001b[0m\n\u001b[1;32m      <a href='vscode-notebook-cell:/home/imitor/Documents/git_repos/ALX_FSE/AirBnB_clone/nb.ipynb#W1sZmlsZQ%3D%3D?line=1'>2</a>\u001b[0m my_model\u001b[39m.\u001b[39mname \u001b[39m=\u001b[39m \u001b[39m\"\u001b[39m\u001b[39mMy_First_Model\u001b[39m\u001b[39m\"\u001b[39m\n\u001b[1;32m      <a href='vscode-notebook-cell:/home/imitor/Documents/git_repos/ALX_FSE/AirBnB_clone/nb.ipynb#W1sZmlsZQ%3D%3D?line=2'>3</a>\u001b[0m my_model\u001b[39m.\u001b[39mmy_number \u001b[39m=\u001b[39m \u001b[39m89\u001b[39m\n\u001b[0;32m----> <a href='vscode-notebook-cell:/home/imitor/Documents/git_repos/ALX_FSE/AirBnB_clone/nb.ipynb#W1sZmlsZQ%3D%3D?line=3'>4</a>\u001b[0m my_model\u001b[39m.\u001b[39;49msave()\n",
      "\u001b[1;32m/home/imitor/Documents/git_repos/ALX_FSE/AirBnB_clone/nb.ipynb Cell 3\u001b[0m in \u001b[0;36mBaseModel.save\u001b[0;34m(self)\u001b[0m\n\u001b[1;32m     <a href='vscode-notebook-cell:/home/imitor/Documents/git_repos/ALX_FSE/AirBnB_clone/nb.ipynb#W1sZmlsZQ%3D%3D?line=33'>34</a>\u001b[0m objects \u001b[39m=\u001b[39m []\n\u001b[1;32m     <a href='vscode-notebook-cell:/home/imitor/Documents/git_repos/ALX_FSE/AirBnB_clone/nb.ipynb#W1sZmlsZQ%3D%3D?line=34'>35</a>\u001b[0m \u001b[39mself\u001b[39m\u001b[39m.\u001b[39mupdated_at \u001b[39m=\u001b[39m datetime\u001b[39m.\u001b[39mnow()\n\u001b[0;32m---> <a href='vscode-notebook-cell:/home/imitor/Documents/git_repos/ALX_FSE/AirBnB_clone/nb.ipynb#W1sZmlsZQ%3D%3D?line=35'>36</a>\u001b[0m storage\u001b[39m.\u001b[39;49msave()\n",
      "File \u001b[0;32m~/Documents/git_repos/ALX_FSE/AirBnB_clone/models/engine/file_storage.py:57\u001b[0m, in \u001b[0;36mFileStorage.save\u001b[0;34m(self)\u001b[0m\n\u001b[1;32m     55\u001b[0m dict_storage \u001b[39m=\u001b[39m {}\n\u001b[1;32m     56\u001b[0m \u001b[39mfor\u001b[39;00m k, v \u001b[39min\u001b[39;00m \u001b[39mself\u001b[39m\u001b[39m.\u001b[39m__objects\u001b[39m.\u001b[39mitems():\n\u001b[0;32m---> 57\u001b[0m     dict_storage[k] \u001b[39m=\u001b[39m v\u001b[39m.\u001b[39;49mto_dict()\n\u001b[1;32m     58\u001b[0m json\u001b[39m.\u001b[39mdump(dict_storage, f)\n",
      "\u001b[0;31mAttributeError\u001b[0m: 'BaseModel' object has no attribute 'to_dict'"
     ]
    }
   ],
   "source": [
    "my_model = BaseModel()\n",
    "my_model.name = \"My_First_Model\"\n",
    "my_model.my_number = 89\n",
    "my_model.save()"
   ]
  },
  {
   "cell_type": "code",
   "execution_count": 8,
   "metadata": {},
   "outputs": [
    {
     "ename": "AttributeError",
     "evalue": "'BaseModel' object has no attribute 'all'",
     "output_type": "error",
     "traceback": [
      "\u001b[0;31m---------------------------------------------------------------------------\u001b[0m",
      "\u001b[0;31mAttributeError\u001b[0m                            Traceback (most recent call last)",
      "\u001b[1;32m/home/imitor/Documents/git_repos/ALX_FSE/AirBnB_clone/nb.ipynb Cell 3\u001b[0m in \u001b[0;36m<cell line: 1>\u001b[0;34m()\u001b[0m\n\u001b[0;32m----> <a href='vscode-notebook-cell:/home/imitor/Documents/git_repos/ALX_FSE/AirBnB_clone/nb.ipynb#W2sZmlsZQ%3D%3D?line=0'>1</a>\u001b[0m my_model\u001b[39m.\u001b[39;49mall()\n",
      "\u001b[0;31mAttributeError\u001b[0m: 'BaseModel' object has no attribute 'all'"
     ]
    }
   ],
   "source": [
    "my_model.all()"
   ]
  },
  {
   "cell_type": "code",
   "execution_count": 1,
   "metadata": {},
   "outputs": [],
   "source": [
    "loaded_dict = {\"BaseModel.31cd9a0b-2adc-43ce-97e6-f44bbe10c7d7\": {\"id\": \"31cd9a0b-2adc-43ce-97e6-f44bbe10c7d7\", \"created_at\": \"2022-11-24T14:40:47.123434\", \"updated_at\": \"2022-11-24T14:40:47.123458\", \"name\": \"My_First_Model\", \"my_number\": 89, \"__class__\": \"BaseModel\"}, \"BaseModel.59b2d43d-0951-4b6d-88ed-3771487c1732\": {\"id\": \"59b2d43d-0951-4b6d-88ed-3771487c1732\", \"created_at\": \"2022-11-24T14:51:30.037868\", \"updated_at\": \"2022-11-24T14:51:30.037879\", \"name\": \"My_First_Model\", \"my_number\": 89, \"__class__\": \"BaseModel\"}, \"BaseModel.ac40d95e-31a6-40fc-9345-e891994938e0\": {\"id\": \"ac40d95e-31a6-40fc-9345-e891994938e0\", \"created_at\": \"2022-11-24T14:52:07.429135\", \"updated_at\": \"2022-11-24T14:52:07.429150\", \"name\": \"My_First_Model\", \"my_number\": 89, \"__class__\": \"BaseModel\"}}"
   ]
  },
  {
   "cell_type": "code",
   "execution_count": 4,
   "metadata": {},
   "outputs": [
    {
     "name": "stdout",
     "output_type": "stream",
     "text": [
      "[BaseModel] (31cd9a0b-2adc-43ce-97e6-f44bbe10c7d7) {'id': '31cd9a0b-2adc-43ce-97e6-f44bbe10c7d7', 'created_at': datetime.datetime(2022, 11, 24, 14, 40, 47, 123434), 'updated_at': datetime.datetime(2022, 11, 24, 14, 40, 47, 123458), 'name': 'My_First_Model', 'my_number': 89} \n",
      "\n",
      "[BaseModel] (59b2d43d-0951-4b6d-88ed-3771487c1732) {'id': '59b2d43d-0951-4b6d-88ed-3771487c1732', 'created_at': datetime.datetime(2022, 11, 24, 14, 51, 30, 37868), 'updated_at': datetime.datetime(2022, 11, 24, 14, 51, 30, 37879), 'name': 'My_First_Model', 'my_number': 89} \n",
      "\n",
      "[BaseModel] (ac40d95e-31a6-40fc-9345-e891994938e0) {'id': 'ac40d95e-31a6-40fc-9345-e891994938e0', 'created_at': datetime.datetime(2022, 11, 24, 14, 52, 7, 429135), 'updated_at': datetime.datetime(2022, 11, 24, 14, 52, 7, 429150), 'name': 'My_First_Model', 'my_number': 89} \n",
      "\n"
     ]
    }
   ],
   "source": [
    "objects = {}\n",
    "from models.base_model import BaseModel\n",
    "class_dict = {\"BaseModel\": BaseModel}\n",
    "for key in loaded_dict.keys():\n",
    "    # use each loaded_dict key to create a k:v pair in __objects\n",
    "    # values are\n",
    "    objects[key] = (\n",
    "        class_dict[loaded_dict[key][\"__class__\"]](**loaded_dict[key])\n",
    "        )\n",
    "    print(class_dict[loaded_dict[key][\"__class__\"]](**loaded_dict[key]),\"\\n\")"
   ]
  },
  {
   "cell_type": "code",
   "execution_count": 9,
   "metadata": {},
   "outputs": [
    {
     "ename": "TypeError",
     "evalue": "eval() takes no keyword arguments",
     "output_type": "error",
     "traceback": [
      "\u001b[0;31m---------------------------------------------------------------------------\u001b[0m",
      "\u001b[0;31mTypeError\u001b[0m                                 Traceback (most recent call last)",
      "\u001b[1;32m/home/imitor/Documents/git_repos/ALX_FSE/AirBnB_clone/nb.ipynb Cell 11\u001b[0m in \u001b[0;36m<cell line: 1>\u001b[0;34m()\u001b[0m\n\u001b[0;32m----> <a href='vscode-notebook-cell:/home/imitor/Documents/git_repos/ALX_FSE/AirBnB_clone/nb.ipynb#X20sZmlsZQ%3D%3D?line=0'>1</a>\u001b[0m abc \u001b[39m=\u001b[39m \u001b[39meval\u001b[39;49m(\u001b[39m*\u001b[39;49m\u001b[39m*\u001b[39;49mloaded_dict)\n",
      "\u001b[0;31mTypeError\u001b[0m: eval() takes no keyword arguments"
     ]
    }
   ],
   "source": [
    "abc = **loaded_dict"
   ]
  },
  {
   "cell_type": "code",
   "execution_count": 17,
   "metadata": {},
   "outputs": [],
   "source": [
    "\n",
    "def function_creator():\n",
    " \n",
    "    # expression to be evaluated\n",
    "    expr = input(\"Enter the function(in terms of x):\")\n",
    " \n",
    "    # variable used in expression\n",
    "    x = int(input(\"Enter the value of x:\"))\n",
    " \n",
    "    # evaluating expression\n",
    "    y = eval(expr)\n",
    "    \n",
    "    print(expr)\n",
    "    # printing evaluated result\n",
    "    print(\"y =\", y)"
   ]
  },
  {
   "cell_type": "code",
   "execution_count": 18,
   "metadata": {},
   "outputs": [
    {
     "name": "stdout",
     "output_type": "stream",
     "text": [
      "(x**2)+(3*x)+2\n",
      "y = 42\n"
     ]
    }
   ],
   "source": [
    "function_creator()"
   ]
  },
  {
   "cell_type": "code",
   "execution_count": 21,
   "metadata": {},
   "outputs": [
    {
     "name": "stdout",
     "output_type": "stream",
     "text": [
      "2+x\n",
      "y = 7\n"
     ]
    }
   ],
   "source": [
    "eval(\"function_creator()\")"
   ]
  },
  {
   "cell_type": "code",
   "execution_count": 23,
   "metadata": {},
   "outputs": [],
   "source": [
    "vals = {'id': 'a563a2f2-3d00-4a73-87bd-a692827b81f0', 'created_at': '2022-11-24T15:27:43.727633', 'updated_at': '2022-11-24T15:27:43.727640', 'name': 'My_First_Model', 'my_number': 89, '__class__': 'BaseModel'}\n",
    "\n",
    "def test_class_kwargs(**kwargs):\n",
    "    for k,v in kwargs.items():\n",
    "        print(f\"{k}: {v}\")"
   ]
  },
  {
   "cell_type": "code",
   "execution_count": 27,
   "metadata": {},
   "outputs": [],
   "source": [
    "new = eval(\"BaseModel\")(**vals)"
   ]
  },
  {
   "cell_type": "code",
   "execution_count": 30,
   "metadata": {},
   "outputs": [
    {
     "name": "stdout",
     "output_type": "stream",
     "text": [
      "[BaseModel] (a563a2f2-3d00-4a73-87bd-a692827b81f0) {'id': 'a563a2f2-3d00-4a73-87bd-a692827b81f0', 'created_at': datetime.datetime(2022, 11, 24, 15, 27, 43, 727633), 'updated_at': datetime.datetime(2022, 11, 24, 15, 27, 43, 727640), 'name': 'My_First_Model', 'my_number': 89}\n"
     ]
    }
   ],
   "source": [
    "\n",
    "print(new)"
   ]
  },
  {
   "cell_type": "code",
   "execution_count": 33,
   "metadata": {},
   "outputs": [
    {
     "data": {
      "text/plain": [
       "'BaseModel'"
      ]
     },
     "execution_count": 33,
     "metadata": {},
     "output_type": "execute_result"
    }
   ],
   "source": [
    "new.__class__.__name__"
   ]
  },
  {
   "cell_type": "code",
   "execution_count": 11,
   "metadata": {},
   "outputs": [],
   "source": [
    "def do_create(*args):\n",
    "    if len(args) > 1:\n",
    "        new_instance = f\"{args[0]} ==> {args[1:]}\"\n",
    "        print(new_instance)"
   ]
  },
  {
   "cell_type": "code",
   "execution_count": 12,
   "metadata": {},
   "outputs": [
    {
     "name": "stdout",
     "output_type": "stream",
     "text": [
      "hello ==> ('world',)\n"
     ]
    }
   ],
   "source": [
    "do_create(\"hello\",\"world\")"
   ]
  },
  {
   "cell_type": "code",
   "execution_count": 1,
   "metadata": {},
   "outputs": [],
   "source": [
    "vals = {'id': 'a563a2f2-3d00-4a73-87bd-a692827b81f0', 'created_at': '2022-11-24T15:27:43.727633', 'updated_at': '2022-11-24T15:27:43.727640', 'name': 'My_First_Model', 'my_number': 89, '__class__': 'BaseModel'}\n",
    "del vals['id']"
   ]
  },
  {
   "cell_type": "code",
   "execution_count": 2,
   "metadata": {},
   "outputs": [
    {
     "data": {
      "text/plain": [
       "{'created_at': '2022-11-24T15:27:43.727633',\n",
       " 'updated_at': '2022-11-24T15:27:43.727640',\n",
       " 'name': 'My_First_Model',\n",
       " 'my_number': 89,\n",
       " '__class__': 'BaseModel'}"
      ]
     },
     "execution_count": 2,
     "metadata": {},
     "output_type": "execute_result"
    }
   ],
   "source": [
    "vals"
   ]
  },
  {
   "cell_type": "code",
   "execution_count": 25,
   "metadata": {},
   "outputs": [],
   "source": [
    "bases = {\n",
    "\t\"GazeModel.18198c63-4fa1-4563-88d5-a161e94e71f3\": {\n",
    "\t\t\"id\": \"18198c63-4fa1-4563-88d5-a161e94e71f3\",\n",
    "\t\t\"created_at\": \"2022-11-25T12:34:51.621151\",\n",
    "\t\t\"updated_at\": \"2022-11-25T12:34:51.621168\",\n",
    "\t\t\"name\": \"My_First_Model\",\n",
    "\t\t\"my_number\": 89,\n",
    "\t\t\"__class__\": \"BaseModel\"\n",
    "\t},\n",
    "\t\"DaseModel.398435d2-5736-48b5-8ea9-9ad5a8d930aa\": {\n",
    "\t\t\"id\": \"398435d2-5736-48b5-8ea9-9ad5a8d930aa\",\n",
    "\t\t\"created_at\": \"2022-11-25T20:15:06.184575\",\n",
    "\t\t\"updated_at\": \"2022-11-25T20:15:06.184620\",\n",
    "\t\t\"__class__\": \"BaseModel\"\n",
    "\t},\n",
    "\t\"BaseModel.8346bddd-183c-4e82-ac9a-6ba5ca55c302\": {\n",
    "\t\t\"id\": \"8346bddd-183c-4e82-ac9a-6ba5ca55c302\",\n",
    "\t\t\"created_at\": \"2022-11-25T20:15:30.529033\",\n",
    "\t\t\"updated_at\": \"2022-11-25T20:15:30.529081\",\n",
    "\t\t\"__class__\": \"BaseModel\"\n",
    "\t}\n",
    "}\n"
   ]
  },
  {
   "cell_type": "code",
   "execution_count": null,
   "metadata": {},
   "outputs": [],
   "source": []
  },
  {
   "cell_type": "code",
   "execution_count": null,
   "metadata": {},
   "outputs": [],
   "source": []
  },
  {
   "cell_type": "code",
   "execution_count": null,
   "metadata": {},
   "outputs": [],
   "source": []
  },
  {
   "cell_type": "code",
   "execution_count": 19,
   "metadata": {},
   "outputs": [
    {
     "ename": "AttributeError",
     "evalue": "'list' object has no attribute 'split'",
     "output_type": "error",
     "traceback": [
      "\u001b[0;31m---------------------------------------------------------------------------\u001b[0m",
      "\u001b[0;31mAttributeError\u001b[0m                            Traceback (most recent call last)",
      "\u001b[1;32m/home/imitor/Documents/git_repos/ALX_FSE/AirBnB_clone/nb.ipynb Cell 24\u001b[0m in \u001b[0;36m<cell line: 1>\u001b[0;34m()\u001b[0m\n\u001b[0;32m----> <a href='vscode-notebook-cell:/home/imitor/Documents/git_repos/ALX_FSE/AirBnB_clone/nb.ipynb#X32sZmlsZQ%3D%3D?line=0'>1</a>\u001b[0m \u001b[39mif\u001b[39;00m \u001b[39m\"\u001b[39m\u001b[39mGazeModel\u001b[39m\u001b[39m\"\u001b[39m \u001b[39min\u001b[39;00m \u001b[39mlist\u001b[39;49m(bases\u001b[39m.\u001b[39;49mkeys())\u001b[39m.\u001b[39;49msplit(\u001b[39m\"\u001b[39m\u001b[39m.\u001b[39m\u001b[39m\"\u001b[39m):\n\u001b[1;32m      <a href='vscode-notebook-cell:/home/imitor/Documents/git_repos/ALX_FSE/AirBnB_clone/nb.ipynb#X32sZmlsZQ%3D%3D?line=1'>2</a>\u001b[0m     \u001b[39mprint\u001b[39m(bases)\n",
      "\u001b[0;31mAttributeError\u001b[0m: 'list' object has no attribute 'split'"
     ]
    }
   ],
   "source": [
    "if \"GazeModel\" in list(bases.keys()).split(\".\"):\n",
    "    print(bases)"
   ]
  },
  {
   "cell_type": "code",
   "execution_count": 23,
   "metadata": {},
   "outputs": [
    {
     "ename": "TypeError",
     "evalue": "expected string or bytes-like object",
     "output_type": "error",
     "traceback": [
      "\u001b[0;31m---------------------------------------------------------------------------\u001b[0m",
      "\u001b[0;31mTypeError\u001b[0m                                 Traceback (most recent call last)",
      "\u001b[1;32m/home/imitor/Documents/git_repos/ALX_FSE/AirBnB_clone/nb.ipynb Cell 25\u001b[0m in \u001b[0;36m<cell line: 4>\u001b[0;34m()\u001b[0m\n\u001b[1;32m      <a href='vscode-notebook-cell:/home/imitor/Documents/git_repos/ALX_FSE/AirBnB_clone/nb.ipynb#X36sZmlsZQ%3D%3D?line=0'>1</a>\u001b[0m \u001b[39mimport\u001b[39;00m \u001b[39mre\u001b[39;00m\n\u001b[1;32m      <a href='vscode-notebook-cell:/home/imitor/Documents/git_repos/ALX_FSE/AirBnB_clone/nb.ipynb#X36sZmlsZQ%3D%3D?line=1'>2</a>\u001b[0m regex \u001b[39m=\u001b[39m \u001b[39m'\u001b[39m\u001b[39mBaseModel\u001b[39m\u001b[39m'\u001b[39m\n\u001b[0;32m----> <a href='vscode-notebook-cell:/home/imitor/Documents/git_repos/ALX_FSE/AirBnB_clone/nb.ipynb#X36sZmlsZQ%3D%3D?line=3'>4</a>\u001b[0m match \u001b[39m=\u001b[39m re\u001b[39m.\u001b[39;49mfindall(regex, my_list)\n\u001b[1;32m      <a href='vscode-notebook-cell:/home/imitor/Documents/git_repos/ALX_FSE/AirBnB_clone/nb.ipynb#X36sZmlsZQ%3D%3D?line=4'>5</a>\u001b[0m \u001b[39mprint\u001b[39m(match)\n",
      "File \u001b[0;32m~/anaconda3/lib/python3.9/re.py:241\u001b[0m, in \u001b[0;36mfindall\u001b[0;34m(pattern, string, flags)\u001b[0m\n\u001b[1;32m    233\u001b[0m \u001b[39mdef\u001b[39;00m \u001b[39mfindall\u001b[39m(pattern, string, flags\u001b[39m=\u001b[39m\u001b[39m0\u001b[39m):\n\u001b[1;32m    234\u001b[0m     \u001b[39m\"\"\"Return a list of all non-overlapping matches in the string.\u001b[39;00m\n\u001b[1;32m    235\u001b[0m \n\u001b[1;32m    236\u001b[0m \u001b[39m    If one or more capturing groups are present in the pattern, return\u001b[39;00m\n\u001b[0;32m   (...)\u001b[0m\n\u001b[1;32m    239\u001b[0m \n\u001b[1;32m    240\u001b[0m \u001b[39m    Empty matches are included in the result.\"\"\"\u001b[39;00m\n\u001b[0;32m--> 241\u001b[0m     \u001b[39mreturn\u001b[39;00m _compile(pattern, flags)\u001b[39m.\u001b[39;49mfindall(string)\n",
      "\u001b[0;31mTypeError\u001b[0m: expected string or bytes-like object"
     ]
    }
   ],
   "source": [
    "import re\n",
    "regex = 'BaseModel'\n",
    " \n",
    "match = re.findall(regex, my_list)\n",
    "print(match)"
   ]
  },
  {
   "cell_type": "code",
   "execution_count": 9,
   "metadata": {},
   "outputs": [],
   "source": [
    "my_list = [\"[FaseModel] (18198c63-4fa1-4563-88d5-a161e94e71f3) {'id': '18198c63-4fa1-4563-88d5-a161e94e71f3', 'created_at': datetime.datetime(2022, 11, 25, 12, 34, 51, 621151), 'updated_at': datetime.datetime(2022, 11, 25, 12, 34, 51, 621168), 'name': 'My_First_Model', 'my_number': 89}\", \"[BaseModel] (398435d2-5736-48b5-8ea9-9ad5a8d930aa) {'id': '398435d2-5736-48b5-8ea9-9ad5a8d930aa', 'created_at': datetime.datetime(2022, 11, 25, 20, 15, 6, 184575), 'updated_at': datetime.datetime(2022, 11, 25, 20, 15, 6, 184620)}\", \"[BaseModel] (8346bddd-183c-4e82-ac9a-6ba5ca55c302) {'id': '8346bddd-183c-4e82-ac9a-6ba5ca55c302', 'created_at': datetime.datetime(2022, 11, 25, 20, 15, 30, 529033), 'updated_at': datetime.datetime(2022, 11, 25, 20, 15, 30, 529081)}\"]"
   ]
  },
  {
   "cell_type": "code",
   "execution_count": 15,
   "metadata": {},
   "outputs": [
    {
     "data": {
      "text/plain": [
       "'FaseModel'"
      ]
     },
     "execution_count": 15,
     "metadata": {},
     "output_type": "execute_result"
    }
   ],
   "source": [
    "for i in len(my_list)\n",
    "if my_list[0].split()[0].strip(\"[]\")"
   ]
  },
  {
   "cell_type": "code",
   "execution_count": 28,
   "metadata": {},
   "outputs": [
    {
     "name": "stdout",
     "output_type": "stream",
     "text": [
      "BaseModel.8346bddd-183c-4e82-ac9a-6ba5ca55c302\n"
     ]
    }
   ],
   "source": [
    "for keys in bases.keys():\n",
    "    if str(keys).startswith(\"Base\"):\n",
    "        print(keys)"
   ]
  },
  {
   "cell_type": "code",
   "execution_count": 56,
   "metadata": {},
   "outputs": [],
   "source": [
    "lst = \"\"\"User.update(\"38f22813-2753-4d42-b37c-57a17f1e4f88\", {'first_name': \"John\", \"age\": 89})\"\"\"\n",
    "lst = lst.replace(\"(\", \" \").replace(\".\", \" \")\\\n",
    "            .replace(\")\", \"\").replace(\",\", \" \").replace(\":\", \"\")\\\n",
    "                .replace(\"{\", \" \").replace(\"}\", \" \").replace(\"  \", \" \")"
   ]
  },
  {
   "cell_type": "code",
   "execution_count": 58,
   "metadata": {},
   "outputs": [
    {
     "data": {
      "text/plain": [
       "['User',\n",
       " 'update',\n",
       " '38f22813-2753-4d42-b37c-57a17f1e4f88',\n",
       " 'first_name',\n",
       " 'John',\n",
       " 'age',\n",
       " '89']"
      ]
     },
     "execution_count": 58,
     "metadata": {},
     "output_type": "execute_result"
    }
   ],
   "source": [
    "import shlex\n",
    "\n",
    "lst = shlex.split(lst)\n",
    "lst"
   ]
  },
  {
   "cell_type": "code",
   "execution_count": 53,
   "metadata": {},
   "outputs": [],
   "source": [
    "\n",
    "to_dct = lst[3:]\n",
    "dic = {to_dct[i]: to_dct[i + 1] for i in range(0, len(to_dct), 2)}"
   ]
  },
  {
   "cell_type": "code",
   "execution_count": 54,
   "metadata": {},
   "outputs": [
    {
     "data": {
      "text/plain": [
       "{'first_name': 'John', 'age': '89'}"
      ]
     },
     "execution_count": 54,
     "metadata": {},
     "output_type": "execute_result"
    }
   ],
   "source": [
    "for k,v in dic.items():\n",
    "    "
   ]
  },
  {
   "cell_type": "code",
   "execution_count": 51,
   "metadata": {},
   "outputs": [
    {
     "data": {
      "text/plain": [
       "['first_name', 'John', 'age', '89']"
      ]
     },
     "execution_count": 51,
     "metadata": {},
     "output_type": "execute_result"
    }
   ],
   "source": [
    "to_dct"
   ]
  },
  {
   "cell_type": "code",
   "execution_count": 1,
   "metadata": {},
   "outputs": [],
   "source": [
    "class_dict = {\n",
    "    \"BaseModel\": \"BaseModel\",\n",
    "    \"User\": \"User\",\n",
    "    \"Amenity\": \"Amenity\",\n",
    "    \"City\": \"City\",\n",
    "    \"Place\": \"Place\",\n",
    "    \"Review\": \"Review\"\n",
    "    }"
   ]
  },
  {
   "cell_type": "code",
   "execution_count": 60,
   "metadata": {},
   "outputs": [],
   "source": [
    "lists = [i for i in class_dict.keys()]"
   ]
  },
  {
   "cell_type": "code",
   "execution_count": 61,
   "metadata": {},
   "outputs": [
    {
     "data": {
      "text/plain": [
       "['BaseModel', 'User', 'Amenity', 'City', 'Place', 'Review']"
      ]
     },
     "execution_count": 61,
     "metadata": {},
     "output_type": "execute_result"
    }
   ],
   "source": [
    "user_dict = {\n",
    "    \"name\": \"BaseModel\",\n",
    "    \"User_id\": \"wer8e74u\",\n",
    "    }"
   ]
  },
  {
   "cell_type": "code",
   "execution_count": 2,
   "metadata": {},
   "outputs": [
    {
     "ename": "TypeError",
     "evalue": "print() takes at most 4 keyword arguments (6 given)",
     "output_type": "error",
     "traceback": [
      "\u001b[0;31m---------------------------------------------------------------------------\u001b[0m",
      "\u001b[0;31mTypeError\u001b[0m                                 Traceback (most recent call last)",
      "\u001b[1;32m/home/imitor/Documents/git_repos/ALX_FSE/AirBnB_clone/nb.ipynb Cell 40\u001b[0m in \u001b[0;36m<cell line: 1>\u001b[0;34m()\u001b[0m\n\u001b[0;32m----> <a href='vscode-notebook-cell:/home/imitor/Documents/git_repos/ALX_FSE/AirBnB_clone/nb.ipynb#X54sZmlsZQ%3D%3D?line=0'>1</a>\u001b[0m \u001b[39mprint\u001b[39;49m(\u001b[39m*\u001b[39;49m\u001b[39m*\u001b[39;49mclass_dict)\n",
      "\u001b[0;31mTypeError\u001b[0m: print() takes at most 4 keyword arguments (6 given)"
     ]
    }
   ],
   "source": [
    "func(name=\"BaseModel\", User_id=\"wer8e74u\")\n",
    "func(**user_dict)"
   ]
  },
  {
   "cell_type": "code",
   "execution_count": null,
   "metadata": {},
   "outputs": [],
   "source": [
    "lst = ['BaseModel', 'User', 'Amenity', 'City', 'Place', 'Review']"
   ]
  }
 ],
 "metadata": {
  "kernelspec": {
   "display_name": "Python 3.9.12 ('base')",
   "language": "python",
   "name": "python3"
  },
  "language_info": {
   "codemirror_mode": {
    "name": "ipython",
    "version": 3
   },
   "file_extension": ".py",
   "mimetype": "text/x-python",
   "name": "python",
   "nbconvert_exporter": "python",
   "pygments_lexer": "ipython3",
   "version": "3.9.12"
  },
  "orig_nbformat": 4,
  "vscode": {
   "interpreter": {
    "hash": "531d16891cc6a4bc083d7631e4d46318a53d03379e744d6da0ddfc7f54406a35"
   }
  }
 },
 "nbformat": 4,
 "nbformat_minor": 2
}
